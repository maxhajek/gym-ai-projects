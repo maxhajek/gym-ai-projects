{
 "cells": [
  {
   "cell_type": "code",
   "execution_count": 1,
   "metadata": {},
   "outputs": [],
   "source": [
    "import json\n",
    "import os\n",
    "import datetime\n",
    "import numpy as np\n",
    "import gymnasium as gym\n",
    "import matplotlib.pyplot as plt"
   ]
  },
  {
   "cell_type": "code",
   "execution_count": 2,
   "metadata": {},
   "outputs": [],
   "source": [
    "CONFIG = {\n",
    "    'ALPHA': 0.1,\n",
    "    'GAMMA': 0.99,\n",
    "    'EPSILON': 0.4,\n",
    "    'EPSILON_MIN': 0.01,\n",
    "    'EPSILON_DECAY': 0.995,\n",
    "    'EPISODES': 10000,\n",
    "    'PENALTY': -300,\n",
    "    'TARGET_STEPS': 150,\n",
    "}"
   ]
  },
  {
   "cell_type": "code",
   "execution_count": 3,
   "metadata": {},
   "outputs": [],
   "source": [
    "# init\n",
    "env = gym.make('MountainCar-v0')\n",
    "n_actions = env.action_space.n\n",
    "\n",
    "# bins\n",
    "CART_POSITION_BINS = np.linspace(-1.2, 0.6, 24)\n",
    "CART_VELOCITY_BINS = np.linspace(-0.07, 0.07, 24)"
   ]
  },
  {
   "cell_type": "code",
   "execution_count": 4,
   "metadata": {},
   "outputs": [],
   "source": [
    "def load_q_table():\n",
    "    global q_table\n",
    "    if os.path.exists(\"q_table.json\"):\n",
    "        with open(\"q_table.json\", \"r\") as f:\n",
    "            q_table = np.array(json.load(f))\n",
    "    else:\n",
    "        q_table = np.zeros((25, 25, n_actions))\n",
    "\n",
    "def save_q_table():\n",
    "    with open(\"q_table.json\", \"w\") as f:\n",
    "        json.dump(q_table.tolist(), f, indent=1)"
   ]
  },
  {
   "cell_type": "code",
   "execution_count": 5,
   "metadata": {},
   "outputs": [],
   "source": [
    "\n",
    "\n",
    "def discretize_state(state):\n",
    "    cart_position, cart_velocity = state\n",
    "    cart_position_idx = np.digitize(cart_position, CART_POSITION_BINS)\n",
    "    cart_velocity_idx = np.digitize(cart_velocity, CART_VELOCITY_BINS)\n",
    "    return cart_position_idx, cart_velocity_idx\n",
    "\n",
    "def choose_action(state, epsilon):\n",
    "    if np.random.uniform(0,1) < epsilon:\n",
    "        return env.action_space.sample()\n",
    "    return np.argmax(q_table[state])\n",
    "\n",
    "def update_q_value(state, action, reward, next_state):\n",
    "    best_next_action = np.argmax(q_table[next_state])\n",
    "    q_target = reward + CONFIG[\"GAMMA\"] * q_table[next_state][best_next_action]\n",
    "    q_table[state][action] = (1 - CONFIG[\"ALPHA\"]) * q_table[state][action] + CONFIG[\n",
    "        \"ALPHA\"\n",
    "    ] * q_target\n",
    "\n",
    "\n",
    "def train():\n",
    "    previousCnt = []\n",
    "    metrics = {\"ep\": [], \"avg\": [], \"min\": [], \"max\": []}\n",
    "    epsilon = CONFIG[\"EPSILON\"]\n",
    "\n",
    "    for episode in range(CONFIG[\"EPISODES\"]):\n",
    "        continuous_state, _ = env.reset(seed=42)\n",
    "        state = discretize_state(continuous_state)\n",
    "        done = False\n",
    "        cnt = 0\n",
    "        while not done:\n",
    "            action = choose_action(state, epsilon)\n",
    "            cnt += 1\n",
    "            next_continuous_state, reward, done, _, _ = env.step(action)\n",
    "            next_state = discretize_state(next_continuous_state)\n",
    "            if done and cnt > CONFIG[\"TARGET_STEPS\"]:\n",
    "                reward = CONFIG[\"PENALTY\"]\n",
    "            if cnt == 1000:\n",
    "                done = True\n",
    "            update_q_value(state, action, reward, next_state)\n",
    "            state = next_state\n",
    "        previousCnt.append(cnt)\n",
    "        epsilon *= CONFIG[\"EPSILON_DECAY\"]\n",
    "        epsilon = max(CONFIG[\"EPSILON_MIN\"], epsilon)\n",
    "        if episode % 100 == 0:\n",
    "            log_metrics(episode, previousCnt, metrics)\n",
    "    env.close()\n",
    "    return metrics\n",
    "\n",
    "\n",
    "def log_metrics(episode, previousCnt, metrics):\n",
    "    latestRuns = previousCnt[-100:]\n",
    "    averageCnt = sum(latestRuns) / len(latestRuns)\n",
    "    metrics[\"ep\"].append(episode)\n",
    "    metrics[\"avg\"].append(averageCnt)\n",
    "    metrics[\"min\"].append(min(latestRuns))\n",
    "    metrics[\"max\"].append(max(latestRuns))\n",
    "    print(\n",
    "        f\"Run: {episode}, Average: {averageCnt}, Min: {min(latestRuns)}, Max: {max(latestRuns)}\"\n",
    "    )\n",
    "\n",
    "\n",
    "def plot_metrics(metrics):\n",
    "    plt.plot(metrics[\"ep\"], metrics[\"avg\"], label=\"average rewards\")\n",
    "    plt.plot(metrics[\"ep\"], metrics[\"min\"], label=\"min rewards\")\n",
    "    plt.plot(metrics[\"ep\"], metrics[\"max\"], label=\"max rewards\")\n",
    "    plt.legend(loc=4)\n",
    "    t = datetime.datetime.now().strftime(\"%Y-%m-%d-%H-%M-%S\")\n",
    "    plt.savefig(f\"pole-cart-{t}.png\")"
   ]
  },
  {
   "cell_type": "code",
   "execution_count": 6,
   "metadata": {},
   "outputs": [],
   "source": [
    "load_q_table()"
   ]
  },
  {
   "cell_type": "code",
   "execution_count": 7,
   "metadata": {},
   "outputs": [
    {
     "name": "stdout",
     "output_type": "stream",
     "text": [
      "Run: 0, Average: 398.0, Min: 398, Max: 398\n",
      "Run: 100, Average: 267.11, Min: 160, Max: 663\n",
      "Run: 200, Average: 279.13, Min: 208, Max: 1000\n",
      "Run: 300, Average: 615.51, Min: 150, Max: 1000\n",
      "Run: 400, Average: 201.09, Min: 146, Max: 1000\n",
      "Run: 500, Average: 694.35, Min: 146, Max: 1000\n",
      "Run: 600, Average: 919.36, Min: 253, Max: 1000\n",
      "Run: 700, Average: 1000.0, Min: 1000, Max: 1000\n",
      "Run: 800, Average: 1000.0, Min: 1000, Max: 1000\n",
      "Run: 900, Average: 1000.0, Min: 1000, Max: 1000\n",
      "Run: 1000, Average: 1000.0, Min: 1000, Max: 1000\n",
      "Run: 1100, Average: 1000.0, Min: 1000, Max: 1000\n",
      "Run: 1200, Average: 756.47, Min: 240, Max: 1000\n",
      "Run: 1300, Average: 959.6, Min: 303, Max: 1000\n",
      "Run: 1400, Average: 1000.0, Min: 1000, Max: 1000\n",
      "Run: 1500, Average: 1000.0, Min: 1000, Max: 1000\n",
      "Run: 1600, Average: 1000.0, Min: 1000, Max: 1000\n",
      "Run: 1700, Average: 1000.0, Min: 1000, Max: 1000\n",
      "Run: 1800, Average: 1000.0, Min: 1000, Max: 1000\n",
      "Run: 1900, Average: 1000.0, Min: 1000, Max: 1000\n",
      "Run: 2000, Average: 1000.0, Min: 1000, Max: 1000\n",
      "Run: 2100, Average: 1000.0, Min: 1000, Max: 1000\n",
      "Run: 2200, Average: 1000.0, Min: 1000, Max: 1000\n",
      "Run: 2300, Average: 1000.0, Min: 1000, Max: 1000\n",
      "Run: 2400, Average: 1000.0, Min: 1000, Max: 1000\n",
      "Run: 2500, Average: 1000.0, Min: 1000, Max: 1000\n",
      "Run: 2600, Average: 999.29, Min: 929, Max: 1000\n",
      "Run: 2700, Average: 1000.0, Min: 1000, Max: 1000\n",
      "Run: 2800, Average: 1000.0, Min: 1000, Max: 1000\n",
      "Run: 2900, Average: 1000.0, Min: 1000, Max: 1000\n",
      "Run: 3000, Average: 991.31, Min: 648, Max: 1000\n",
      "Run: 3100, Average: 1000.0, Min: 1000, Max: 1000\n",
      "Run: 3200, Average: 1000.0, Min: 1000, Max: 1000\n",
      "Run: 3300, Average: 1000.0, Min: 1000, Max: 1000\n",
      "Run: 3400, Average: 1000.0, Min: 1000, Max: 1000\n",
      "Run: 3500, Average: 979.11, Min: 479, Max: 1000\n",
      "Run: 3600, Average: 1000.0, Min: 1000, Max: 1000\n",
      "Run: 3700, Average: 1000.0, Min: 1000, Max: 1000\n",
      "Run: 3800, Average: 1000.0, Min: 1000, Max: 1000\n",
      "Run: 3900, Average: 1000.0, Min: 1000, Max: 1000\n",
      "Run: 4000, Average: 1000.0, Min: 1000, Max: 1000\n",
      "Run: 4100, Average: 1000.0, Min: 1000, Max: 1000\n",
      "Run: 4200, Average: 1000.0, Min: 1000, Max: 1000\n",
      "Run: 4300, Average: 1000.0, Min: 1000, Max: 1000\n",
      "Run: 4400, Average: 1000.0, Min: 1000, Max: 1000\n",
      "Run: 4500, Average: 1000.0, Min: 1000, Max: 1000\n",
      "Run: 4600, Average: 1000.0, Min: 1000, Max: 1000\n",
      "Run: 4700, Average: 1000.0, Min: 1000, Max: 1000\n",
      "Run: 4800, Average: 1000.0, Min: 1000, Max: 1000\n",
      "Run: 4900, Average: 1000.0, Min: 1000, Max: 1000\n",
      "Run: 5000, Average: 1000.0, Min: 1000, Max: 1000\n",
      "Run: 5100, Average: 1000.0, Min: 1000, Max: 1000\n",
      "Run: 5200, Average: 1000.0, Min: 1000, Max: 1000\n",
      "Run: 5300, Average: 1000.0, Min: 1000, Max: 1000\n",
      "Run: 5400, Average: 1000.0, Min: 1000, Max: 1000\n",
      "Run: 5500, Average: 1000.0, Min: 1000, Max: 1000\n",
      "Run: 5600, Average: 1000.0, Min: 1000, Max: 1000\n",
      "Run: 5700, Average: 1000.0, Min: 1000, Max: 1000\n",
      "Run: 5800, Average: 1000.0, Min: 1000, Max: 1000\n",
      "Run: 5900, Average: 1000.0, Min: 1000, Max: 1000\n",
      "Run: 6000, Average: 1000.0, Min: 1000, Max: 1000\n",
      "Run: 6100, Average: 1000.0, Min: 1000, Max: 1000\n",
      "Run: 6200, Average: 1000.0, Min: 1000, Max: 1000\n",
      "Run: 6300, Average: 1000.0, Min: 1000, Max: 1000\n",
      "Run: 6400, Average: 1000.0, Min: 1000, Max: 1000\n",
      "Run: 6500, Average: 1000.0, Min: 1000, Max: 1000\n",
      "Run: 6600, Average: 1000.0, Min: 1000, Max: 1000\n",
      "Run: 6700, Average: 1000.0, Min: 1000, Max: 1000\n",
      "Run: 6800, Average: 1000.0, Min: 1000, Max: 1000\n",
      "Run: 6900, Average: 1000.0, Min: 1000, Max: 1000\n",
      "Run: 7000, Average: 1000.0, Min: 1000, Max: 1000\n",
      "Run: 7100, Average: 1000.0, Min: 1000, Max: 1000\n",
      "Run: 7200, Average: 1000.0, Min: 1000, Max: 1000\n",
      "Run: 7300, Average: 1000.0, Min: 1000, Max: 1000\n",
      "Run: 7400, Average: 1000.0, Min: 1000, Max: 1000\n",
      "Run: 7500, Average: 1000.0, Min: 1000, Max: 1000\n",
      "Run: 7600, Average: 1000.0, Min: 1000, Max: 1000\n",
      "Run: 7700, Average: 1000.0, Min: 1000, Max: 1000\n",
      "Run: 7800, Average: 1000.0, Min: 1000, Max: 1000\n",
      "Run: 7900, Average: 1000.0, Min: 1000, Max: 1000\n",
      "Run: 8000, Average: 1000.0, Min: 1000, Max: 1000\n",
      "Run: 8100, Average: 1000.0, Min: 1000, Max: 1000\n",
      "Run: 8200, Average: 1000.0, Min: 1000, Max: 1000\n",
      "Run: 8300, Average: 1000.0, Min: 1000, Max: 1000\n",
      "Run: 8400, Average: 1000.0, Min: 1000, Max: 1000\n",
      "Run: 8500, Average: 1000.0, Min: 1000, Max: 1000\n",
      "Run: 8600, Average: 1000.0, Min: 1000, Max: 1000\n",
      "Run: 8700, Average: 1000.0, Min: 1000, Max: 1000\n",
      "Run: 8800, Average: 1000.0, Min: 1000, Max: 1000\n",
      "Run: 8900, Average: 1000.0, Min: 1000, Max: 1000\n",
      "Run: 9000, Average: 1000.0, Min: 1000, Max: 1000\n",
      "Run: 9100, Average: 1000.0, Min: 1000, Max: 1000\n",
      "Run: 9200, Average: 1000.0, Min: 1000, Max: 1000\n",
      "Run: 9300, Average: 1000.0, Min: 1000, Max: 1000\n",
      "Run: 9400, Average: 1000.0, Min: 1000, Max: 1000\n",
      "Run: 9500, Average: 1000.0, Min: 1000, Max: 1000\n",
      "Run: 9600, Average: 1000.0, Min: 1000, Max: 1000\n",
      "Run: 9700, Average: 1000.0, Min: 1000, Max: 1000\n",
      "Run: 9800, Average: 1000.0, Min: 1000, Max: 1000\n",
      "Run: 9900, Average: 1000.0, Min: 1000, Max: 1000\n"
     ]
    }
   ],
   "source": [
    "metrics = train()"
   ]
  },
  {
   "cell_type": "code",
   "execution_count": 8,
   "metadata": {},
   "outputs": [
    {
     "data": {
      "image/png": "[encoded data removed]",
      "text/plain": [
       "<Figure size 640x480 with 1 Axes>"
      ]
     },
     "metadata": {},
     "output_type": "display_data"
    }
   ],
   "source": [
    "plot_metrics(metrics)"
   ]
  },
  {
   "cell_type": "code",
   "execution_count": 9,
   "metadata": {},
   "outputs": [],
   "source": [
    "save_q_table()"
   ]
  },
  {
   "cell_type": "code",
   "execution_count": 10,
   "metadata": {},
   "outputs": [
    {
     "ename": "KeyboardInterrupt",
     "evalue": "",
     "output_type": "error",
     "traceback": [
      "\u001b[0;31m---------------------------------------------------------------------------\u001b[0m",
      "\u001b[0;31mKeyboardInterrupt\u001b[0m                         Traceback (most recent call last)",
      "\u001b[1;32m/home/max/gym-test/mountain-car-q-table/mountain-car-q-table.ipynb Cell 10\u001b[0m line \u001b[0;36m7\n\u001b[1;32m      <a href='vscode-notebook-cell://wsl%2Bubuntu/home/max/gym-test/mountain-car-q-table/mountain-car-q-table.ipynb#X15sdnNjb2RlLXJlbW90ZQ%3D%3D?line=4'>5</a>\u001b[0m \u001b[39mwhile\u001b[39;00m \u001b[39mnot\u001b[39;00m done:\n\u001b[1;32m      <a href='vscode-notebook-cell://wsl%2Bubuntu/home/max/gym-test/mountain-car-q-table/mountain-car-q-table.ipynb#X15sdnNjb2RlLXJlbW90ZQ%3D%3D?line=5'>6</a>\u001b[0m     action \u001b[39m=\u001b[39m np\u001b[39m.\u001b[39margmax(q_table[state])\n\u001b[0;32m----> <a href='vscode-notebook-cell://wsl%2Bubuntu/home/max/gym-test/mountain-car-q-table/mountain-car-q-table.ipynb#X15sdnNjb2RlLXJlbW90ZQ%3D%3D?line=6'>7</a>\u001b[0m     next_continuous_state, reward, done, _, _ \u001b[39m=\u001b[39m env\u001b[39m.\u001b[39;49mstep(action)\n\u001b[1;32m      <a href='vscode-notebook-cell://wsl%2Bubuntu/home/max/gym-test/mountain-car-q-table/mountain-car-q-table.ipynb#X15sdnNjb2RlLXJlbW90ZQ%3D%3D?line=7'>8</a>\u001b[0m     state \u001b[39m=\u001b[39m discretize_state(next_continuous_state)\n\u001b[1;32m      <a href='vscode-notebook-cell://wsl%2Bubuntu/home/max/gym-test/mountain-car-q-table/mountain-car-q-table.ipynb#X15sdnNjb2RlLXJlbW90ZQ%3D%3D?line=8'>9</a>\u001b[0m env\u001b[39m.\u001b[39mclose()\n",
      "File \u001b[0;32m~/gym-test/venv/lib/python3.10/site-packages/gymnasium/wrappers/time_limit.py:57\u001b[0m, in \u001b[0;36mTimeLimit.step\u001b[0;34m(self, action)\u001b[0m\n\u001b[1;32m     46\u001b[0m \u001b[39mdef\u001b[39;00m \u001b[39mstep\u001b[39m(\u001b[39mself\u001b[39m, action):\n\u001b[1;32m     47\u001b[0m \u001b[39m    \u001b[39m\u001b[39m\"\"\"Steps through the environment and if the number of steps elapsed exceeds ``max_episode_steps`` then truncate.\u001b[39;00m\n\u001b[1;32m     48\u001b[0m \n\u001b[1;32m     49\u001b[0m \u001b[39m    Args:\u001b[39;00m\n\u001b[0;32m   (...)\u001b[0m\n\u001b[1;32m     55\u001b[0m \n\u001b[1;32m     56\u001b[0m \u001b[39m    \"\"\"\u001b[39;00m\n\u001b[0;32m---> 57\u001b[0m     observation, reward, terminated, truncated, info \u001b[39m=\u001b[39m \u001b[39mself\u001b[39;49m\u001b[39m.\u001b[39;49menv\u001b[39m.\u001b[39;49mstep(action)\n\u001b[1;32m     58\u001b[0m     \u001b[39mself\u001b[39m\u001b[39m.\u001b[39m_elapsed_steps \u001b[39m+\u001b[39m\u001b[39m=\u001b[39m \u001b[39m1\u001b[39m\n\u001b[1;32m     60\u001b[0m     \u001b[39mif\u001b[39;00m \u001b[39mself\u001b[39m\u001b[39m.\u001b[39m_elapsed_steps \u001b[39m>\u001b[39m\u001b[39m=\u001b[39m \u001b[39mself\u001b[39m\u001b[39m.\u001b[39m_max_episode_steps:\n",
      "File \u001b[0;32m~/gym-test/venv/lib/python3.10/site-packages/gymnasium/wrappers/order_enforcing.py:56\u001b[0m, in \u001b[0;36mOrderEnforcing.step\u001b[0;34m(self, action)\u001b[0m\n\u001b[1;32m     54\u001b[0m \u001b[39mif\u001b[39;00m \u001b[39mnot\u001b[39;00m \u001b[39mself\u001b[39m\u001b[39m.\u001b[39m_has_reset:\n\u001b[1;32m     55\u001b[0m     \u001b[39mraise\u001b[39;00m ResetNeeded(\u001b[39m\"\u001b[39m\u001b[39mCannot call env.step() before calling env.reset()\u001b[39m\u001b[39m\"\u001b[39m)\n\u001b[0;32m---> 56\u001b[0m \u001b[39mreturn\u001b[39;00m \u001b[39mself\u001b[39;49m\u001b[39m.\u001b[39;49menv\u001b[39m.\u001b[39;49mstep(action)\n",
      "File \u001b[0;32m~/gym-test/venv/lib/python3.10/site-packages/gymnasium/wrappers/env_checker.py:51\u001b[0m, in \u001b[0;36mPassiveEnvChecker.step\u001b[0;34m(self, action)\u001b[0m\n\u001b[1;32m     49\u001b[0m     \u001b[39mreturn\u001b[39;00m env_step_passive_checker(\u001b[39mself\u001b[39m\u001b[39m.\u001b[39menv, action)\n\u001b[1;32m     50\u001b[0m \u001b[39melse\u001b[39;00m:\n\u001b[0;32m---> 51\u001b[0m     \u001b[39mreturn\u001b[39;00m \u001b[39mself\u001b[39;49m\u001b[39m.\u001b[39;49menv\u001b[39m.\u001b[39;49mstep(action)\n",
      "File \u001b[0;32m~/gym-test/venv/lib/python3.10/site-packages/gymnasium/envs/classic_control/mountain_car.py:148\u001b[0m, in \u001b[0;36mMountainCarEnv.step\u001b[0;34m(self, action)\u001b[0m\n\u001b[1;32m    146\u001b[0m \u001b[39mself\u001b[39m\u001b[39m.\u001b[39mstate \u001b[39m=\u001b[39m (position, velocity)\n\u001b[1;32m    147\u001b[0m \u001b[39mif\u001b[39;00m \u001b[39mself\u001b[39m\u001b[39m.\u001b[39mrender_mode \u001b[39m==\u001b[39m \u001b[39m\"\u001b[39m\u001b[39mhuman\u001b[39m\u001b[39m\"\u001b[39m:\n\u001b[0;32m--> 148\u001b[0m     \u001b[39mself\u001b[39;49m\u001b[39m.\u001b[39;49mrender()\n\u001b[1;32m    149\u001b[0m \u001b[39mreturn\u001b[39;00m np\u001b[39m.\u001b[39marray(\u001b[39mself\u001b[39m\u001b[39m.\u001b[39mstate, dtype\u001b[39m=\u001b[39mnp\u001b[39m.\u001b[39mfloat32), reward, terminated, \u001b[39mFalse\u001b[39;00m, {}\n",
      "File \u001b[0;32m~/gym-test/venv/lib/python3.10/site-packages/gymnasium/envs/classic_control/mountain_car.py:266\u001b[0m, in \u001b[0;36mMountainCarEnv.render\u001b[0;34m(self)\u001b[0m\n\u001b[1;32m    264\u001b[0m \u001b[39mif\u001b[39;00m \u001b[39mself\u001b[39m\u001b[39m.\u001b[39mrender_mode \u001b[39m==\u001b[39m \u001b[39m\"\u001b[39m\u001b[39mhuman\u001b[39m\u001b[39m\"\u001b[39m:\n\u001b[1;32m    265\u001b[0m     pygame\u001b[39m.\u001b[39mevent\u001b[39m.\u001b[39mpump()\n\u001b[0;32m--> 266\u001b[0m     \u001b[39mself\u001b[39;49m\u001b[39m.\u001b[39;49mclock\u001b[39m.\u001b[39;49mtick(\u001b[39mself\u001b[39;49m\u001b[39m.\u001b[39;49mmetadata[\u001b[39m\"\u001b[39;49m\u001b[39mrender_fps\u001b[39;49m\u001b[39m\"\u001b[39;49m])\n\u001b[1;32m    267\u001b[0m     pygame\u001b[39m.\u001b[39mdisplay\u001b[39m.\u001b[39mflip()\n\u001b[1;32m    269\u001b[0m \u001b[39melif\u001b[39;00m \u001b[39mself\u001b[39m\u001b[39m.\u001b[39mrender_mode \u001b[39m==\u001b[39m \u001b[39m\"\u001b[39m\u001b[39mrgb_array\u001b[39m\u001b[39m\"\u001b[39m:\n",
      "\u001b[0;31mKeyboardInterrupt\u001b[0m: "
     ]
    }
   ],
   "source": [
    "\n",
    "env = gym.make('MountainCar-v0', render_mode=\"human\")\n",
    "continuous_state, _ = env.reset(seed=42)\n",
    "state = discretize_state(continuous_state)\n",
    "done = False\n",
    "while not done:\n",
    "    action = np.argmax(q_table[state])\n",
    "    next_continuous_state, reward, done, _, _ = env.step(action)\n",
    "    state = discretize_state(next_continuous_state)\n",
    "env.close()"
   ]
  },
  {
   "cell_type": "code",
   "execution_count": null,
   "metadata": {},
   "outputs": [],
   "source": []
  }
 ],
 "metadata": {
  "kernelspec": {
   "display_name": "venv",
   "language": "python",
   "name": "python3"
  },
  "language_info": {
   "codemirror_mode": {
    "name": "ipython",
    "version": 3
   },
   "file_extension": ".py",
   "mimetype": "text/x-python",
   "name": "python",
   "nbconvert_exporter": "python",
   "pygments_lexer": "ipython3",
   "version": "3.10.12"
  },
  "orig_nbformat": 4
 },
 "nbformat": 4,
 "nbformat_minor": 2
}
